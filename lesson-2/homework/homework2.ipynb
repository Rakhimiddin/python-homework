{
 "cells": [
  {
   "cell_type": "code",
   "execution_count": null,
   "metadata": {},
   "outputs": [
    {
     "name": "stdout",
     "output_type": "stream",
     "text": [
      "Your age is 46\n"
     ]
    }
   ],
   "source": [
    "#Create a program to ask name and year of brith from user an\n",
    "Names=input('What is your name?')\n",
    "Dateofbrith=input('When were you born? only year please')\n",
    "from datetime import datetime\n",
    "now=datetime.now()\n",
    "current_year=now.year\n",
    "Result=int(current_year)-int(Dateofbrith)\n",
    "print('Your age is',Result,'years old')"
   ]
  },
  {
   "cell_type": "code",
   "execution_count": 15,
   "metadata": {},
   "outputs": [
    {
     "name": "stdout",
     "output_type": "stream",
     "text": [
      "2025\n"
     ]
    }
   ],
   "source": [
    "from datetime import datetime\n",
    "now=datetime.now()\n",
    "current_year=now.year\n",
    "print(current_year)"
   ]
  },
  {
   "cell_type": "code",
   "execution_count": 25,
   "metadata": {},
   "outputs": [
    {
     "name": "stdout",
     "output_type": "stream",
     "text": [
      "Lasetti\n",
      "Malibu\n"
     ]
    }
   ],
   "source": [
    "#Extract car names from this text\n",
    "txt='LMaasleitbtui'\n",
    "print(txt[::2])\n",
    "print(txt[1::2])"
   ]
  },
  {
   "cell_type": "code",
   "execution_count": 27,
   "metadata": {},
   "outputs": [
    {
     "name": "stdout",
     "output_type": "stream",
     "text": [
      "Matiz\n",
      "Damas\n"
     ]
    }
   ],
   "source": [
    "#Extract car names from this text\n",
    "txt='MsaatmiazD'\n",
    "print(txt[::2])\n",
    "print(txt[::-2])"
   ]
  },
  {
   "cell_type": "code",
   "execution_count": 10,
   "metadata": {},
   "outputs": [
    {
     "name": "stdout",
     "output_type": "stream",
     "text": [
      "London\n"
     ]
    }
   ],
   "source": [
    "#Extract residence are from this text\n",
    "txt=\"I/'m John. I am from London\"\n",
    "residence = txt.split()[-1]\n",
    "print(residence)  \n"
   ]
  }
 ],
 "metadata": {
  "kernelspec": {
   "display_name": "Python 3",
   "language": "python",
   "name": "python3"
  },
  "language_info": {
   "codemirror_mode": {
    "name": "ipython",
    "version": 3
   },
   "file_extension": ".py",
   "mimetype": "text/x-python",
   "name": "python",
   "nbconvert_exporter": "python",
   "pygments_lexer": "ipython3",
   "version": "3.13.2"
  }
 },
 "nbformat": 4,
 "nbformat_minor": 2
}
