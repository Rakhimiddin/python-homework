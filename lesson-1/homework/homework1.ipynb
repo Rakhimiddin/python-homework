{
 "cells": [
  {
   "cell_type": "code",
   "execution_count": 1,
   "metadata": {},
   "outputs": [
    {
     "name": "stdout",
     "output_type": "stream",
     "text": [
      "Raxmiddin\n"
     ]
    }
   ],
   "source": [
    "print('Raxmiddin')"
   ]
  },
  {
   "cell_type": "code",
   "execution_count": null,
   "metadata": {},
   "outputs": [
    {
     "name": "stdout",
     "output_type": "stream",
     "text": [
      "Hi john, There are 4 letters in your name\n"
     ]
    }
   ],
   "source": [
    "name=input('What is your name?')\n",
    "print(f'Hi {name}, There are {len(name)} letters in your name')"
   ]
  },
  {
   "cell_type": "code",
   "execution_count": null,
   "metadata": {},
   "outputs": [],
   "source": [
    "#Given a side of square. Find its perimeter and area\n",
    "a=int(input('give side of square'))\n",
    "P=4*a\n",
    "S=a**2\n",
    "print(P,S)"
   ]
  },
  {
   "cell_type": "code",
   "execution_count": 6,
   "metadata": {},
   "outputs": [
    {
     "name": "stdout",
     "output_type": "stream",
     "text": [
      "The length of circle is 78.53981633974483\n"
     ]
    }
   ],
   "source": [
    "#Given diameter of circle.Find its length\n",
    "import math\n",
    "d=float(input('give diameter of circle'))\n",
    "l=d*math.pi\n",
    "print('The length of circle is',l)"
   ]
  },
  {
   "cell_type": "code",
   "execution_count": 5,
   "metadata": {},
   "outputs": [
    {
     "name": "stdout",
     "output_type": "stream",
     "text": [
      "The mean of 8.0 and 5.0 is: 6.5\n"
     ]
    }
   ],
   "source": [
    "#Given two numbers a and b. Find their mean.\n",
    "a=float(input('Enter the first number'))\n",
    "b=float(input('Enter the second number'))\n",
    "mean=(a+b)/2\n",
    "print(\"The mean of\", a, \"and\", b, \"is:\", mean)\n"
   ]
  },
  {
   "cell_type": "code",
   "execution_count": null,
   "metadata": {},
   "outputs": [
    {
     "name": "stdout",
     "output_type": "stream",
     "text": [
      "Sum: 29.0\n",
      "Product: 210.0\n",
      "Square of a: 225.0\n",
      "Square of b: 196.0\n"
     ]
    }
   ],
   "source": [
    "#Given two numbers a and b. Find their sum, product and square of each number\n",
    "a=float(input('give any number'))\n",
    "b=float(input('give any number'))\n",
    "sum_ab = a + b\n",
    "product_ab = a * b\n",
    "square_a = a ** 2\n",
    "square_b = b ** 2\n",
    "print(\"Sum:\", sum_ab)\n",
    "print(\"Product:\", product_ab)\n",
    "print(\"Square of a:\", square_a)\n",
    "print(\"Square of b:\", square_b)"
   ]
  }
 ],
 "metadata": {
  "kernelspec": {
   "display_name": "Python 3",
   "language": "python",
   "name": "python3"
  },
  "language_info": {
   "codemirror_mode": {
    "name": "ipython",
    "version": 3
   },
   "file_extension": ".py",
   "mimetype": "text/x-python",
   "name": "python",
   "nbconvert_exporter": "python",
   "pygments_lexer": "ipython3",
   "version": "3.13.2"
  }
 },
 "nbformat": 4,
 "nbformat_minor": 2
}
