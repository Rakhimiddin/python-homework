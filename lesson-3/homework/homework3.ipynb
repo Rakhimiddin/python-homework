{
 "cells": [
  {
   "cell_type": "code",
   "execution_count": null,
   "metadata": {},
   "outputs": [
    {
     "name": "stdout",
     "output_type": "stream",
     "text": [
      "Amazing news for you: we can deduct 30% of your total bill.\n"
     ]
    }
   ],
   "source": [
    "#Checking Discounts Based on Age\n",
    "#A store offers discounts based on the age of the customer:\n",
    "\n",
    "#Kids (under 12): 50% discount\n",
    "#Seniors (60 and above): 30% discount\n",
    "#Others: No discount\n",
    "\n",
    "age = int(input('Can you tell me your age? We have special offers! '))\n",
    "if age < 12:\n",
    "    print('We have a 50% discount for kids. You can get it!')\n",
    "elif age > 60:\n",
    "    print('Amazing news for you: we can deduct 30% of your total bill.')\n",
    "else:\n",
    "    print('Unfortunately, we don\\'t have any discount for you.')\n"
   ]
  },
  {
   "cell_type": "code",
   "execution_count": null,
   "metadata": {},
   "outputs": [
    {
     "name": "stdout",
     "output_type": "stream",
     "text": [
      "Your password  matched\n"
     ]
    }
   ],
   "source": [
    "#Validating a Password\n",
    "#A system requires a user to enter a password, #and it checks if the password matches a #predefined value.\n",
    "\n",
    "#stored_password = \"secure123\"\n",
    "\n",
    "password=input('Enter the password please')\n",
    "if password=='secure123':\n",
    "    print('Your password  matched. Welcome')\n",
    "else:\n",
    "    print('Please re-enter the correct password')"
   ]
  },
  {
   "cell_type": "code",
   "execution_count": 11,
   "metadata": {},
   "outputs": [
    {
     "name": "stdout",
     "output_type": "stream",
     "text": [
      "Pretty good, your scoreis B\n"
     ]
    }
   ],
   "source": [
    "#Grading System Based on Marks\n",
    "#Calculate a student's grade based on their score:\n",
    "\n",
    "#90 and above: A\n",
    "#80–89: B\n",
    "#70–79: C\n",
    "#Below 70: F\n",
    "\n",
    "score=float(input('What\\'s your scoremin exam?'))\n",
    "if score>=90 :\n",
    "     print('Amazing, your grade is A')\n",
    "elif 80<=score<=89:\n",
    "    print('Pretty good, your scoreis B')\n",
    "elif 70<=score<=79:\n",
    "     print('Not bad, your score is C')\n",
    "else:       \n",
    "    print('It\\'s so bad, your grade is F')\n",
    "        \n"
   ]
  },
  {
   "cell_type": "code",
   "execution_count": 4,
   "metadata": {},
   "outputs": [
    {
     "name": "stdout",
     "output_type": "stream",
     "text": [
      "Your request succesfully completed\n",
      "Your current balance is: 129.0\n"
     ]
    }
   ],
   "source": [
    "#ATM Withdrawal\n",
    "#An ATM allows withdrawal only if:\n",
    "\n",
    "#The amount is a multiple of 10.\n",
    "#The account has sufficient balance.\n",
    "\n",
    "balance=float(input('Enter your current balance on your card'))\n",
    "withdrawal=float(input('Enter how much money do you need?'))\n",
    "\n",
    "if balance>withdrawal and withdrawal % 10 == 0:\n",
    "    print('Your request succesfully completed')\n",
    "    print(f'Your current balance is: {balance-withdrawal}')\n",
    "elif balance>withdrawal and withdrawal % 10 != 0:\n",
    "    print('Please enter withdrawal amount divisible 10')\n",
    "else: \n",
    "    print('Your balance is not enough')"
   ]
  },
  {
   "cell_type": "code",
   "execution_count": 2,
   "metadata": {},
   "outputs": [
    {
     "name": "stdout",
     "output_type": "stream",
     "text": [
      "You can keep rolling\n"
     ]
    }
   ],
   "source": [
    "#Traffic Light System\n",
    "#Simulate actions based on traffic light colors.\n",
    "\n",
    "color=input('tell me current color of traffic ligts')\n",
    "if color=='red':\n",
    "    print('You should stop at the line')\n",
    "elif color=='yellow':\n",
    "    print('You can prepare to drive')\n",
    "else:\n",
    "    print('You can keep rolling')"
   ]
  },
  {
   "cell_type": "code",
   "execution_count": 16,
   "metadata": {},
   "outputs": [
    {
     "name": "stdout",
     "output_type": "stream",
     "text": [
      "It's odd number\n"
     ]
    }
   ],
   "source": [
    "#Even or Odd Numbers\n",
    "#Determine whether a number is even or odd.\n",
    "\n",
    "number=int(input('tell me any number'))\n",
    "if number % 2 ==0:\n",
    "    print('It\\'s even number')\n",
    "else:\n",
    "    print('It\\'s odd number')"
   ]
  },
  {
   "cell_type": "code",
   "execution_count": 22,
   "metadata": {},
   "outputs": [
    {
     "name": "stdout",
     "output_type": "stream",
     "text": [
      "You are normal, enjoy your life😎🎶😁\n"
     ]
    }
   ],
   "source": [
    "#BMI Calculator\n",
    "#Calculate Body Mass Index (BMI) and provide health feedback.\n",
    "\n",
    "weight=float(input('what is your weight? give us like 78 kg'))\n",
    "height=float(input('what is your height? give us like 1.71 m'))\n",
    "BMI=weight/(height**2)\n",
    "if BMI<18.5:\n",
    "    print('You are underweight, you should get mass')\n",
    "elif 18.5<=BMI<=24.9:\n",
    "    print('You are normal, enjoy your life😎🎶😁')\n",
    "elif 25<=BMI<=29.9:\n",
    "    print('You are overweight, you should do regular sports')\n",
    "else:\n",
    "    print('You are obese, you must start action now ')"
   ]
  },
  {
   "cell_type": "code",
   "execution_count": 23,
   "metadata": {},
   "outputs": [
    {
     "name": "stdout",
     "output_type": "stream",
     "text": [
      "can be tolerated☀️☀️, but you should get sun light protection items\n"
     ]
    }
   ],
   "source": [
    "#Weather Advice\n",
    "#Give advice based on the temperature.\n",
    "\n",
    "weather=float(input('How\\'s the temperature today'))\n",
    "if weather>=40:\n",
    "    print('Wheather is extrmly hot🌞🌞. You must use air condition and stay home')\n",
    "elif 25<weather<40:\n",
    "    print('can be tolerated☀️☀️, but you should get sun light protection items')\n",
    "elif 8<weather<25:\n",
    "    print('It\\'s cool to get outside and walking in garden🌈🌊')\n",
    "else:\n",
    "    print('if you want to get outside, you must wear thick clothes❄️❄️')"
   ]
  },
  {
   "cell_type": "code",
   "execution_count": 24,
   "metadata": {},
   "outputs": [
    {
     "name": "stdout",
     "output_type": "stream",
     "text": [
      "Unfortunately, you do not qualify for free shipping.\n"
     ]
    }
   ],
   "source": [
    "#Online Shopping Cart\n",
    "#Check if the user qualifies for free shipping:\n",
    "\n",
    "#Free shipping for orders above $50\n",
    "\n",
    "order=float(input('How does it cost your total order?'))\n",
    "if order>50:\n",
    "    print('Congratulations! You qualify for free shipping.')\n",
    "else:\n",
    "    print('Unfortunately, you do not qualify for free shipping.')"
   ]
  },
  {
   "cell_type": "code",
   "execution_count": 26,
   "metadata": {},
   "outputs": [
    {
     "name": "stdout",
     "output_type": "stream",
     "text": [
      "Error: Invalid account type. Please choose Savings, Current, or Fixed Deposit.\n"
     ]
    }
   ],
   "source": [
    "#Banking System: Check Account Type\n",
    "#Provide benefits based on the account type:\n",
    "\n",
    "#Savings: 4% interest\n",
    "#Current: No interest\n",
    "#Fixed Deposit: 6% interest\n",
    "\n",
    "actype=input('what is your account ?')\n",
    "if actype=='savings':\n",
    "    print('Savings Account: 4% interest on your balance.')\n",
    "elif actype=='current':\n",
    "    print('Current Account: No interest on your balance.')\n",
    "elif actype=='fixed deposit':\n",
    "    print('Fixed Deposit Account: 6% interest on your deposit.')\n",
    "else:\n",
    "    print('Error: Invalid account type. Please choose Savings, Current, or Fixed Deposit.')\n"
   ]
  },
  {
   "cell_type": "code",
   "execution_count": 27,
   "metadata": {},
   "outputs": [
    {
     "name": "stdout",
     "output_type": "stream",
     "text": [
      "you must re-take in exam when you will be ready for exam\n"
     ]
    }
   ],
   "source": [
    "#Grade-Based Access\n",
    "#Allow students access to certain benefits based on their grade.\n",
    "\n",
    "grade=float(input('tell me your final exam grade'))\n",
    "if grade>=91:\n",
    "    print('Your grade is amazing, keep study smart')\n",
    "elif grade>=80:\n",
    "    print('not bad, but you should study a little bit better')\n",
    "elif grade>=56:\n",
    "    print('You passed exam, but it\\'s really bad, you should study hard')\n",
    "else: \n",
    "    print('you must re-take in exam when you will be ready for exam')\n"
   ]
  },
  {
   "cell_type": "code",
   "execution_count": 10,
   "metadata": {},
   "outputs": [
    {
     "name": "stdout",
     "output_type": "stream",
     "text": [
      "Your generated secure code is: pd$C176(m\n"
     ]
    }
   ],
   "source": [
    "letters = ['a', 'b', 'c', 'd', 'e', 'f', 'g', 'h', 'i', 'j', 'k', 'l', 'm', 'n', 'o', 'p', 'q', 'r', 's', 't', 'u', 'v', 'w', 'x', 'y', 'z', 'A', 'B', 'C', 'D', 'E', 'F', 'G', 'H', 'I', 'J', 'K', 'L', 'M', 'N', 'O', 'P', 'Q', 'R', 'S', 'T', 'U', 'V', 'W', 'X', 'Y', 'Z']\n",
    "numbers = ['0', '1', '2', '3', '4', '5', '6', '7', '8', '9']\n",
    "symbols = ['!', '#', '$', '%', '&', '(', ')', '*', '+']\n",
    "\n",
    "b=int(input('how many letters do you need for your secure code?'))\n",
    "c=int(input('how many numbers do you need for your secure code?'))\n",
    "d=int(input('how many symbols do you need for your secure code?'))\n",
    "import random\n",
    "secure_code=random.choices(letters, k=b)+random.choices(numbers, k=c)+random.choices(symbols, k=d)\n",
    "random.shuffle(secure_code)\n",
    "print(f'Your generated secure code is: {\"\".join(secure_code)}')\n"
   ]
  }
 ],
 "metadata": {
  "kernelspec": {
   "display_name": "Python 3",
   "language": "python",
   "name": "python3"
  },
  "language_info": {
   "codemirror_mode": {
    "name": "ipython",
    "version": 3
   },
   "file_extension": ".py",
   "mimetype": "text/x-python",
   "name": "python",
   "nbconvert_exporter": "python",
   "pygments_lexer": "ipython3",
   "version": "3.13.2"
  }
 },
 "nbformat": 4,
 "nbformat_minor": 2
}
